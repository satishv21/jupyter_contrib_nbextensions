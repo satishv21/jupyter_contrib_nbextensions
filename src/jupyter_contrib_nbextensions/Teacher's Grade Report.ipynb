{
 "cells": [
  {
   "cell_type": "code",
   "execution_count": 13,
   "metadata": {},
   "outputs": [],
   "source": [
    "import pandas as pd\n",
    "import matplotlib.pyplot as plt"
   ]
  },
  {
   "cell_type": "code",
   "execution_count": 14,
   "metadata": {},
   "outputs": [],
   "source": [
    "class1 = pd.read_excel (r'Gradebook.xlsx', sheet_name='Class 1')\n",
    "class2 = pd.read_excel (r'Gradebook.xlsx', sheet_name='Class 2')\n",
    "class3 = pd.read_excel (r'Gradebook.xlsx', sheet_name='Class 3')\n",
    "class4 = pd.read_excel (r'Gradebook.xlsx', sheet_name='Class 4')\n",
    "class5 = pd.read_excel (r'Gradebook.xlsx', sheet_name='Class 5')"
   ]
  },
  {
   "cell_type": "code",
   "execution_count": 15,
   "metadata": {},
   "outputs": [
    {
     "name": "stdout",
     "output_type": "stream",
     "text": [
      "  Class Period  Metric\n",
      "0     Period 1  80.516\n",
      "1     Period 2  83.296\n",
      "2     Period 3  72.182\n",
      "3     Period 4  72.312\n",
      "4     Period 5  82.391\n"
     ]
    }
   ],
   "source": [
    "graph = pd.DataFrame(\n",
    "[[\"Period 1\",class1['Grade'].mean()],\n",
    " [\"Period 2\",class2['Grade'].mean()],\n",
    " [\"Period 3\",class3['Grade'].mean()],\n",
    " [\"Period 4\",class4['Grade'].mean()],\n",
    " [\"Period 5\",class5['Grade'].mean()]],\n",
    "columns=['Class Period','Metric'])\n",
    "print(graph)"
   ]
  },
  {
   "cell_type": "code",
   "execution_count": 16,
   "metadata": {},
   "outputs": [
    {
     "name": "stdout",
     "output_type": "stream",
     "text": [
      "  Class Period  Metric\n",
      "0     Period 1   78.79\n",
      "1     Period 2   90.48\n",
      "2     Period 3   73.32\n",
      "3     Period 4   71.35\n",
      "4     Period 5   84.87\n"
     ]
    }
   ],
   "source": [
    "graph = pd.DataFrame(\n",
    "[[\"Period 1\",class1['Grade'].median()],\n",
    " [\"Period 2\",class2['Grade'].median()],\n",
    " [\"Period 3\",class3['Grade'].median()],\n",
    " [\"Period 4\",class4['Grade'].median()],\n",
    " [\"Period 5\",class5['Grade'].median()]],\n",
    "columns=['Class Period','Metric'])\n",
    "print(graph)"
   ]
  },
  {
   "cell_type": "code",
   "execution_count": 17,
   "metadata": {
    "scrolled": true
   },
   "outputs": [
    {
     "data": {
      "image/png": "[encoded data removed]",
      "text/plain": [
       "<Figure size 432x288 with 1 Axes>"
      ]
     },
     "metadata": {
      "needs_background": "light"
     },
     "output_type": "display_data"
    }
   ],
   "source": [
    "plt.bar(\"Class Period\",\"Metric\",data=graph, color = \"blue\")\n",
    "plt.xlabel(\"Class Period\")\n",
    "plt.ylabel(\"Metric\")\n",
    "plt.title(\"Class Performance By Period\")\n",
    "plt.show()"
   ]
  },
  {
   "cell_type": "markdown",
   "metadata": {},
   "source": [
    "# Below is a bell curve distribution of the student's grades from all classes."
   ]
  },
  {
   "cell_type": "code",
   "execution_count": null,
   "metadata": {},
   "outputs": [],
   "source": []
  }
 ],
 "metadata": {
  "kernelspec": {
   "display_name": "Python 3",
   "language": "python",
   "name": "python3"
  },
  "language_info": {
   "codemirror_mode": {
    "name": "ipython",
    "version": 3
   },
   "file_extension": ".py",
   "mimetype": "text/x-python",
   "name": "python",
   "nbconvert_exporter": "python",
   "pygments_lexer": "ipython3",
   "version": "3.7.6"
  }
 },
 "nbformat": 4,
 "nbformat_minor": 4
}
