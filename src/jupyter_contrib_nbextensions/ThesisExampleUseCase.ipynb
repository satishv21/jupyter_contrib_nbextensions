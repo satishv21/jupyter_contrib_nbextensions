{
 "cells": [
  {
   "cell_type": "markdown",
   "metadata": {},
   "source": [
    "# The Effect of Time Spent Studying on Exam Scores\n",
    "## Data was gathered in a poll from students asking how long they studied before taking an exam"
   ]
  },
  {
   "cell_type": "code",
   "execution_count": 1,
   "metadata": {},
   "outputs": [],
   "source": [
    "import pandas as pd\n",
    "import collections\n",
    "import statistics\n",
    "import matplotlib.pyplot as plt"
   ]
  },
  {
   "cell_type": "code",
   "execution_count": 2,
   "metadata": {},
   "outputs": [],
   "source": [
    "#Imports Data from an Excel Sheet\n",
    "timeGradeData = pd.read_excel (r'TimeVsGrade.xlsx', sheet_name='Sheet1')"
   ]
  },
  {
   "cell_type": "code",
   "execution_count": 3,
   "metadata": {},
   "outputs": [
    {
     "data": {
      "image/png": "[encoded data removed]",
      "text/plain": [
       "<Figure size 432x288 with 1 Axes>"
      ]
     },
     "metadata": {
      "needs_background": "light"
     },
     "output_type": "display_data"
    }
   ],
   "source": [
    "#Frequency Plot Code\n",
    "freq = collections.Counter(list(timeGradeData['Hours Spent Studying']))\n",
    "fig = plt.figure()\n",
    "axes = fig.add_axes([0,0,1,1])\n",
    "axes.bar(list(freq.keys()), list(freq.values()))\n",
    "plt.xlabel(\"Number of Hours Studied\")\n",
    "plt.ylabel(\"Number of Students\")\n",
    "plt.title(\"Freqeuncy Plot of Study Hours and Number of Students\")\n",
    "plt.show()"
   ]
  },
  {
   "cell_type": "code",
   "execution_count": 4,
   "metadata": {
    "HorizontalStatus": {
     "numCells": 1
    }
   },
   "outputs": [
    {
     "name": "stdout",
     "output_type": "stream",
     "text": [
      "   Hours Studied  Mean Exam Score\n",
      "0              1        51.953333\n",
      "1              2        58.150000\n",
      "2              3        70.642857\n",
      "3              4        83.334000\n",
      "4              5        94.760000\n"
     ]
    }
   ],
   "source": [
    "#Line Graph Code\n",
    "#The teacher decides to take the mean of each group and plot it\n",
    "xvalues = list(set(timeGradeData['Hours Spent Studying']))\n",
    "yvalues = []\n",
    "for val in xvalues:\n",
    "    hour_df = timeGradeData.loc[timeGradeData['Hours Spent Studying'] == val]\n",
    "    grade_lst = list(hour_df['Grade'])\n",
    "    yvalues.append(statistics.mean(grade_lst))\n",
    "hoursVsScore = {'Hours Studied': xvalues, 'Mean Exam Score': yvalues}\n",
    "hoursScoreDf = pd.DataFrame(data=hoursVsScore)\n",
    "print(hoursScoreDf)"
   ]
  },
  {
   "cell_type": "code",
   "execution_count": null,
   "metadata": {},
   "outputs": [],
   "source": [
    "#Line Graph Code\n",
    "#The teacher decides to take the median of each group and plot it\n",
    "xvalues = list(set(timeGradeData['Hours Spent Studying']))\n",
    "yvalues = []\n",
    "for val in xvalues:\n",
    "    hour_df = timeGradeData.loc[timeGradeData['Hours Spent Studying'] == val]\n",
    "    grade_lst = list(hour_df['Grade'])\n",
    "    yvalues.append(statistics.median(grade_lst))\n",
    "hoursVsScore = {'Hours Studied': xvalues, 'Median Exam Score': yvalues}\n",
    "hoursScoreDf = pd.DataFrame(data=hoursVsScore)\n",
    "print(hoursScoreDf)"
   ]
  },
  {
   "cell_type": "code",
   "execution_count": null,
   "metadata": {},
   "outputs": [],
   "source": [
    "plt.plot(xvalues,yvalues,'--bo')\n",
    "plt.xlabel(\"Hours Studied\")\n",
    "plt.ylabel(\"Exam Score\")\n",
    "plt.title(\"Hours Studied vs Median Exam Score\")\n",
    "plt.show()"
   ]
  }
 ],
 "metadata": {
  "kernelspec": {
   "display_name": "Python 3",
   "language": "python",
   "name": "python3"
  }
 },
 "nbformat": 4,
 "nbformat_minor": 4
}
