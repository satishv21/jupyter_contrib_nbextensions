{
 "cells": [
  {
   "cell_type": "code",
   "execution_count": 1,
   "metadata": {},
   "outputs": [],
   "source": [
    "import math\n",
    "from pandas import *\n",
    "csvfile = read_csv('test_data.csv')\n",
    "data = list(csvfile['data1'])\n",
    "data2 = list(csvfile['data2'])"
   ]
  },
  {
   "cell_type": "code",
   "execution_count": 2,
   "metadata": {},
   "outputs": [],
   "source": [
    "dataSum = 0\n",
    "for val in data:\n",
    "    dataSum = dataSum + val\n",
    "std_dev_mean = dataSum/len(data)"
   ]
  },
  {
   "cell_type": "code",
   "execution_count": null,
   "metadata": {},
   "outputs": [],
   "source": [
    "sumData = 0\n",
    "for item in data2:\n",
    "    sumData = sumData + item"
   ]
  },
  {
   "cell_type": "code",
   "execution_count": null,
   "metadata": {},
   "outputs": [],
   "source": [
    "mean = sumData/len(data2)"
   ]
  },
  {
   "cell_type": "code",
   "execution_count": 3,
   "metadata": {},
   "outputs": [],
   "source": [
    "sumSquares = 0\n",
    "for val in data:\n",
    "    sumSquares = sumSquares + (val-std_dev_mean)*(val-std_dev_mean)"
   ]
  },
  {
   "cell_type": "code",
   "execution_count": null,
   "metadata": {},
   "outputs": [],
   "source": [
    "avgDist = 0\n",
    "for item in data2:\n",
    "    avgDist  += abs(item-mean)\n",
    "avgDist/=len(data2)"
   ]
  },
  {
   "cell_type": "code",
   "execution_count": 4,
   "metadata": {},
   "outputs": [],
   "source": [
    "pop_std_dev_mean = std_dev_mean+1\n",
    "stdDev = sumSquares/len(data)\n",
    "stdDev = stdDev ** 0.5"
   ]
  },
  {
   "cell_type": "code",
   "execution_count": null,
   "metadata": {},
   "outputs": [],
   "source": [
    "minVal = 100\n",
    "maxVal = 0\n",
    "for item in data2:\n",
    "    if item < minVal:\n",
    "        minVal = item\n",
    "    if item > maxVal:\n",
    "        maxVal = item\n",
    "rangeVal = maxVal - minVal"
   ]
  },
  {
   "cell_type": "code",
   "execution_count": null,
   "metadata": {},
   "outputs": [],
   "source": [
    "print(\"The Average Distance of this dataset is: \", avgDist/rangeVal)"
   ]
  },
  {
   "cell_type": "code",
   "execution_count": 5,
   "metadata": {
    "scrolled": false
   },
   "outputs": [
    {
     "name": "stdout",
     "output_type": "stream",
     "text": [
      "The Standard Deviation of this data is:  27.59057810195357\n"
     ]
    }
   ],
   "source": [
    "print(\"The Standard Deviation of this data is: \", stdDev)"
   ]
  }
 ],
 "metadata": {
  "kernelspec": {
   "display_name": "Python 3",
   "language": "python",
   "name": "python3"
  },
  "language_info": {
   "codemirror_mode": {
    "name": "ipython",
    "version": 3
   },
   "file_extension": ".py",
   "mimetype": "text/x-python",
   "name": "python",
   "nbconvert_exporter": "python",
   "pygments_lexer": "ipython3",
   "version": "3.7.6"
  }
 },
 "nbformat": 4,
 "nbformat_minor": 4
}
