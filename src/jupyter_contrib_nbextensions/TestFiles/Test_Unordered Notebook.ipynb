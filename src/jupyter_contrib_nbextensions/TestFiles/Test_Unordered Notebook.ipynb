{
 "cells": [
  {
   "cell_type": "code",
   "execution_count": 1,
   "metadata": {},
   "outputs": [],
   "source": [
    "from pandas import *\n",
    "csvfile = read_csv('test_data.csv')\n",
    "data = list(csvfile['uo_data'])\n",
    "data2 = list(csvfile['data2'])"
   ]
  },
  {
   "cell_type": "code",
   "execution_count": 9,
   "metadata": {},
   "outputs": [],
   "source": [
    "freqList = [0,0,0,0,0,0,0,0,0,0]\n",
    "for val in data:\n",
    "    while val > 0:\n",
    "        freqList[val%10] += 1\n",
    "        val = int(val/10)"
   ]
  },
  {
   "cell_type": "code",
   "execution_count": null,
   "metadata": {},
   "outputs": [],
   "source": [
    "simpleFreqList = [0,0,0,0,0,0,0,0,0,0]\n",
    "for val in data2:\n",
    "    while val > 0:\n",
    "        simpleFreqList[val%10]+=1\n",
    "        val = int(val/10)"
   ]
  },
  {
   "cell_type": "code",
   "execution_count": null,
   "metadata": {},
   "outputs": [],
   "source": [
    "cumulativeFreqList = simpleFreqList\n",
    "for i in range(1,len(simpleFreqList)):\n",
    "    cumulativeFreqList[i] = cumulativeFreqList[i-1]+cumulativeFreqList[i]"
   ]
  },
  {
   "cell_type": "code",
   "execution_count": 10,
   "metadata": {},
   "outputs": [],
   "source": [
    "totalVal = 0\n",
    "for val in freqList:\n",
    "    totalVal+=val"
   ]
  },
  {
   "cell_type": "code",
   "execution_count": null,
   "metadata": {},
   "outputs": [],
   "source": [
    "cumulativePercentList = cumulativeFreqList\n",
    "for percent in cumulativePercentList:\n",
    "    percent/=cumulativePercentList[-1]"
   ]
  },
  {
   "cell_type": "code",
   "execution_count": 5,
   "metadata": {},
   "outputs": [],
   "source": [
    "percentList = freqList\n",
    "for percent in percentList:\n",
    "    percent/=totalVal"
   ]
  },
  {
   "cell_type": "code",
   "execution_count": null,
   "metadata": {},
   "outputs": [],
   "source": [
    "print(percentList)"
   ]
  },
  {
   "cell_type": "code",
   "execution_count": null,
   "metadata": {},
   "outputs": [],
   "source": [
    "print(cumulativePercentList)"
   ]
  }
 ],
 "metadata": {
  "kernelspec": {
   "display_name": "Python 3",
   "language": "python",
   "name": "python3"
  },
  "language_info": {
   "codemirror_mode": {
    "name": "ipython",
    "version": 3
   },
   "file_extension": ".py",
   "mimetype": "text/x-python",
   "name": "python",
   "nbconvert_exporter": "python",
   "pygments_lexer": "ipython3",
   "version": "3.7.6"
  }
 },
 "nbformat": 4,
 "nbformat_minor": 4
}
