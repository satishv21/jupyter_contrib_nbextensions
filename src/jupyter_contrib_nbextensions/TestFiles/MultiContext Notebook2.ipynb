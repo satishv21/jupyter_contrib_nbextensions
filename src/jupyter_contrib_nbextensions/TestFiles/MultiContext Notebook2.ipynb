{
 "cells": [
  {
   "cell_type": "markdown",
   "metadata": {},
   "source": [
    "# Normalizing Data\n",
    "## In this notebook, a dataset is normalized and plotted"
   ]
  },
  {
   "cell_type": "code",
   "execution_count": 18,
   "metadata": {},
   "outputs": [],
   "source": [
    "import math, statistics\n",
    "import matplotlib.pyplot as plt\n",
    "from pandas import *\n",
    "csvfile = read_csv('test_data.csv')\n",
    "data = list(csvfile['mc_data2'])"
   ]
  },
  {
   "cell_type": "code",
   "execution_count": 19,
   "metadata": {},
   "outputs": [],
   "source": [
    "normdata = []\n",
    "for val in data:\n",
    "    normdata.append(math.log10(val))"
   ]
  },
  {
   "cell_type": "code",
   "execution_count": 20,
   "metadata": {},
   "outputs": [],
   "source": [
    "normdata = []\n",
    "maxV = 0\n",
    "minV = 999\n",
    "for val in data:\n",
    "    if val > maxV:\n",
    "        maxV = val\n",
    "    if val < minV:\n",
    "        minV = val\n",
    "rangeV = maxV-minV\n",
    "for val in data:\n",
    "    normdata.append((val-minV)/rangeV)"
   ]
  },
  {
   "cell_type": "code",
   "execution_count": 21,
   "metadata": {},
   "outputs": [],
   "source": [
    "normdata = []\n",
    "stddev = statistics.stdev(data)\n",
    "mean = statistics.mean(data)\n",
    "for val in data:\n",
    "    normdata.append((val-mean)/stddev)"
   ]
  },
  {
   "cell_type": "code",
   "execution_count": 22,
   "metadata": {
    "scrolled": false
   },
   "outputs": [
    {
     "data": {
      "image/png": "[encoded data removed]",
      "text/plain": [
       "<Figure size 432x288 with 1 Axes>"
      ]
     },
     "metadata": {
      "needs_background": "light"
     },
     "output_type": "display_data"
    }
   ],
   "source": [
    "x = list(range(1,len(normdata)+1))\n",
    "normdata.sort()\n",
    "plt.plot(x,normdata, label='normalized values')\n",
    "plt.xlabel('Entries', fontsize=15)\n",
    "plt.ylabel('Normalized Values', fontsize=15)\n",
    "plt.show()"
   ]
  },
  {
   "cell_type": "code",
   "execution_count": null,
   "metadata": {},
   "outputs": [],
   "source": []
  }
 ],
 "metadata": {
  "kernelspec": {
   "display_name": "Python 3",
   "language": "python",
   "name": "python3"
  },
  "language_info": {
   "codemirror_mode": {
    "name": "ipython",
    "version": 3
   },
   "file_extension": ".py",
   "mimetype": "text/x-python",
   "name": "python",
   "nbconvert_exporter": "python",
   "pygments_lexer": "ipython3",
   "version": "3.7.6"
  }
 },
 "nbformat": 4,
 "nbformat_minor": 4
}
