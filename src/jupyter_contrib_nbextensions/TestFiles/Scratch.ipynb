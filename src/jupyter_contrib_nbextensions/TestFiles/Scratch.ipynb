{
 "cells": [
  {
   "cell_type": "code",
   "execution_count": null,
   "metadata": {},
   "outputs": [],
   "source": [
    "from pandas import *\n",
    "csvfile = read_csv('test_data.csv')\n",
    "data = list(csvfile['uo_data'])"
   ]
  },
  {
   "cell_type": "code",
   "execution_count": null,
   "metadata": {},
   "outputs": [],
   "source": [
    "sortedData = sorted(data)\n",
    "median = -1\n",
    "if len(data)%2 == 0:\n",
    "    median = (sortedData[int(len(data)/2-1)]+sortedData[int(len(data)/2)])/2\n",
    "else:\n",
    "    median = sortedData[(len(data)-1)/2]"
   ]
  },
  {
   "cell_type": "code",
   "execution_count": null,
   "metadata": {},
   "outputs": [],
   "source": [
    "uh = [item for item in sortedData if item > median ]\n",
    "uq = 0\n",
    "if len(uh)%2 == 0:\n",
    "    uq = (uh[int(len(uh)/2-1)]+uh[int(len(uh)/2)])/2\n",
    "else:\n",
    "    uq = uh[int((len(uh)-1)/2)]"
   ]
  },
  {
   "cell_type": "code",
   "execution_count": null,
   "metadata": {},
   "outputs": [],
   "source": [
    "lh = [item for item in sortedData if item < median ]\n",
    "lq = 0\n",
    "if len(lh)%2 == 0:\n",
    "    lq = (lh[int(len(lh)/2-1)]+lh[int(len(lh)/2)])/2\n",
    "else:\n",
    "    lq = lh[int((len(lh)-1)/2)]"
   ]
  },
  {
   "cell_type": "code",
   "execution_count": null,
   "metadata": {},
   "outputs": [],
   "source": [
    "minV = sortedData[0]\n",
    "maxV = sortedData[-1]"
   ]
  },
  {
   "cell_type": "code",
   "execution_count": null,
   "metadata": {},
   "outputs": [],
   "source": [
    "print(minV,lq,median,uq,maxV)"
   ]
  }
 ],
 "metadata": {
  "kernelspec": {
   "display_name": "Python 3",
   "language": "python",
   "name": "python3"
  },
  "language_info": {
   "codemirror_mode": {
    "name": "ipython",
    "version": 3
   },
   "file_extension": ".py",
   "mimetype": "text/x-python",
   "name": "python",
   "nbconvert_exporter": "python",
   "pygments_lexer": "ipython3",
   "version": "3.7.6"
  }
 },
 "nbformat": 4,
 "nbformat_minor": 4
}
