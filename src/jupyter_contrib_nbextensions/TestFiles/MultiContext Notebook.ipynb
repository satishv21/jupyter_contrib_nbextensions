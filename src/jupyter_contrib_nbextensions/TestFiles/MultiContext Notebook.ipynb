{
 "cells": [
  {
   "cell_type": "markdown",
   "metadata": {},
   "source": [
    "# Measuring Variability of a Dataset\n",
    "## In this notebook, the variability of a dataset is measured and represented in a singular value"
   ]
  },
  {
   "cell_type": "code",
   "execution_count": 5,
   "metadata": {},
   "outputs": [],
   "source": [
    "from pandas import *\n",
    "csvfile = read_csv('test_data.csv')\n",
    "dataset = list(csvfile['mc_data'])"
   ]
  },
  {
   "cell_type": "code",
   "execution_count": 6,
   "metadata": {},
   "outputs": [],
   "source": [
    "mean = 0\n",
    "for val in dataset:\n",
    "    mean += val\n",
    "mean /= len(dataset)"
   ]
  },
  {
   "cell_type": "code",
   "execution_count": 3,
   "metadata": {},
   "outputs": [],
   "source": [
    "metric = 0\n",
    "for val in dataset:\n",
    "    metric += (val - mean)**2\n",
    "metric /= len(dataset)\n",
    "metric = metric**0.5"
   ]
  },
  {
   "cell_type": "code",
   "execution_count": 5,
   "metadata": {},
   "outputs": [],
   "source": [
    "metric = 0\n",
    "for val in dataset:\n",
    "    metric += (val - mean)**2\n",
    "metric /= len(dataset)"
   ]
  },
  {
   "cell_type": "code",
   "execution_count": 7,
   "metadata": {},
   "outputs": [],
   "source": [
    "metric = 0\n",
    "for val in dataset:\n",
    "    metric += abs(val-mean)\n",
    "metric /= len(dataset)"
   ]
  },
  {
   "cell_type": "code",
   "execution_count": null,
   "metadata": {
    "scrolled": true
   },
   "outputs": [],
   "source": [
    "print(\"The data's variability is measured as: \", metric)"
   ]
  }
 ],
 "metadata": {
  "kernelspec": {
   "display_name": "Python 3",
   "language": "python",
   "name": "python3"
  },
  "language_info": {
   "codemirror_mode": {
    "name": "ipython",
    "version": 3
   },
   "file_extension": ".py",
   "mimetype": "text/x-python",
   "name": "python",
   "nbconvert_exporter": "python",
   "pygments_lexer": "ipython3",
   "version": "3.7.6"
  }
 },
 "nbformat": 4,
 "nbformat_minor": 4
}
